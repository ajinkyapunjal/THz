{
 "cells": [
  {
   "cell_type": "code",
   "execution_count": 1,
   "id": "developed-raising",
   "metadata": {},
   "outputs": [],
   "source": [
    "import originpro as op\n",
    "import os\n",
    "import numpy as np\n",
    "import pandas as pd"
   ]
  },
  {
   "cell_type": "code",
   "execution_count": 2,
   "id": "fluid-safety",
   "metadata": {},
   "outputs": [],
   "source": [
    "#Template Path\n",
    "template = os.path.normpath(r'C:\\Users\\ajinkya\\Desktop\\Kachra\\150721\\ImporttoFFT.otwu')\n",
    "formula  = '(2000+ (i-1)*(17000-2000)/V1)/149.896229'\n",
    "\n",
    "\n",
    "datapath = os.path.normpath(r'C:\\Users\\ajinkya\\Desktop\\Kachra\\150721')\n",
    "date = '150721'\n",
    "run = [4,5,7,8]\n",
    "total_files = [5,5,5,5]"
   ]
  },
  {
   "cell_type": "code",
   "execution_count": 3,
   "id": "viral-gothic",
   "metadata": {},
   "outputs": [],
   "source": [
    "#My Functions\n",
    "def readfile(filename):\n",
    "    import pandas as pd\n",
    "    import numpy as np\n",
    "    \n",
    "    df = pd.read_csv(filename,skiprows=12,skipfooter=1,sep='\\s+').iloc[:-1,:5]\n",
    "    df=pd.DataFrame(np.array(df, dtype=float))\n",
    "    index=[\"Distance (um)\", \"Delay (ps)\", \"Signal (V)\", \"Phase (deg)\", \"Rcos (theta)\"]\n",
    "    df=df.set_axis(index, axis=1, inplace=False).reset_index(drop=True)\n",
    "    return df\n",
    "\n",
    "def run_numbering(i):\n",
    "    if i<10:\n",
    "        temp_name = f'00%i'%i\n",
    "    elif i>=100:\n",
    "        temp_name = f'%i'%i\n",
    "    else:\n",
    "        temp_name = f'0%i'%i\n",
    "    return temp_name\n",
    "\n",
    "def filename_generator(date, run, total_files):\n",
    "    i = 0\n",
    "    filenames = []\n",
    "    for run_ in run:\n",
    "        for total_files_ in range(total_files[i]):\n",
    "            #filename = date + '_' + str(run_numbering(run_)) + 'forward_proct_' + str(total_files_) + '.txt'\n",
    "            filename = date + '_' + str(run_numbering(run_)) + '_br_' + str(total_files_) + '.txt'\n",
    "            filenames.append(filename)\n",
    "            filename = date + '_' + str(run_numbering(run_)) + '_ft_' + str(total_files_) + '.txt'\n",
    "            filenames.append(filename)\n",
    "        i = i+1\n",
    "    return filenames\n",
    "\n",
    "#Reference: https://www.techiedelight.com/convert-given-number-corresponding-excel-column-name/\n",
    "# Function to convert a given number to an Excel column\n",
    "def getColumnName(n):\n",
    " \n",
    "    # initialize output string as empty\n",
    "    result = \"\"\n",
    " \n",
    "    while n > 0:\n",
    " \n",
    "        # find the index of the next letter and concatenate the letter\n",
    "        # to the solution\n",
    " \n",
    "        # here index 0 corresponds to `A`, and 25 corresponds to `Z`\n",
    "        index = (n - 1) % 26\n",
    "        result += chr(index + ord('A'))\n",
    "        n = (n - 1) // 26\n",
    " \n",
    "    return result[::-1]"
   ]
  },
  {
   "cell_type": "code",
   "execution_count": 4,
   "id": "adolescent-landing",
   "metadata": {},
   "outputs": [],
   "source": [
    "# Very useful, especially during development, when you are\n",
    "# liable to have a few uncaught exceptions.\n",
    "# Ensures that the Origin instance gets shut down properly.\n",
    "# Note: only applicable to external Python.\n",
    "import sys\n",
    "def origin_shutdown_exception_hook(exctype, value, traceback):\n",
    "    '''Ensures Origin gets shut down if an uncaught exception'''\n",
    "    op.exit()\n",
    "    sys.__excepthook__(exctype, value, traceback)\n",
    "if op and op.oext:\n",
    "    sys.excepthook = origin_shutdown_exception_hook"
   ]
  },
  {
   "cell_type": "code",
   "execution_count": 5,
   "id": "boxed-pocket",
   "metadata": {},
   "outputs": [],
   "source": [
    "# Set Origin instance visibility.\n",
    "# Important for only external Python.\n",
    "# Should not be used with embedded Python. \n",
    "if op.oext:\n",
    "    op.set_show(True)"
   ]
  },
  {
   "cell_type": "code",
   "execution_count": 6,
   "id": "streaming-channels",
   "metadata": {},
   "outputs": [],
   "source": [
    "#filepath = filename_generator(date, run, total_files)\n",
    "#np.savetxt('analysisfilename.txt',filepath,delimiter=',',fmt='%s')\n",
    "\n",
    "#df = pd.read_csv('analysisfilename.txt')\n",
    "df = pd.read_csv('analysisfilename.txt',header=None,sep='\\t').to_numpy()\n",
    "filepath = df[:,0].tolist()\n",
    "comment  = df[:,1].tolist()"
   ]
  },
  {
   "cell_type": "code",
   "execution_count": 12,
   "id": "acting-genesis",
   "metadata": {},
   "outputs": [],
   "source": [
    "amplitude     = op.new_sheet(lname='Amplitude')\n",
    "phase         = op.new_sheet(lname='Phase')\n",
    "delay         = op.new_sheet(lname='Delay')\n",
    "transmittance = op.new_sheet(lname='Transmittance')\n",
    "phasediff     = op.new_sheet(lname='Phasediff')\n",
    "\n",
    "delay_1 = op.new_sheet(lname='Delay2')\n",
    "\n",
    "#Set Frequency Column\n",
    "amplitude.set_label('A','Frequency','L')\n",
    "amplitude.set_label('A','THz','U')\n",
    "\n",
    "phase.set_formula('A','[Amplitude]Sheet1!A')\n",
    "phase.set_label('A','Frequency','L')\n",
    "phase.set_label('A','THz','U')\n",
    "\n",
    "delay.set_label('A','Frequency','L')\n",
    "delay.set_label('A','THz','U')"
   ]
  },
  {
   "cell_type": "code",
   "execution_count": 16,
   "id": "intimate-gender",
   "metadata": {},
   "outputs": [
    {
     "name": "stdout",
     "output_type": "stream",
     "text": [
      "150721.009\n"
     ]
    },
    {
     "name": "stderr",
     "output_type": "stream",
     "text": [
      "<ipython-input-3-d3fad2520f45>:6: ParserWarning: Falling back to the 'python' engine because the 'c' engine does not support skipfooter; you can avoid this warning by specifying engine='python'.\n",
      "  df = pd.read_csv(filename,skiprows=12,skipfooter=1,sep='\\s+').iloc[:-1,:5]\n"
     ]
    },
    {
     "name": "stdout",
     "output_type": "stream",
     "text": [
      "150721_004_br_0.txt\n",
      "150721_004_ft_0.txt\n",
      "150721_004_br_1.txt\n",
      "150721_004_ft_1.txt\n",
      "150721_004_br_2.txt\n",
      "150721_004_ft_2.txt\n",
      "150721_004_br_3.txt\n",
      "150721_004_ft_3.txt\n",
      "150721_005_br_0.txt\n",
      "150721_005_ft_0.txt\n",
      "150721_005_br_1.txt\n",
      "150721_005_ft_1.txt\n",
      "150721_005_br_2.txt\n",
      "150721_005_ft_2.txt\n",
      "150721_005_br_3.txt\n",
      "150721_005_ft_3.txt\n",
      "150721_007_br_0.txt\n",
      "150721_007_ft_0.txt\n",
      "150721_007_br_1.txt\n",
      "150721_007_ft_1.txt\n",
      "150721_007_br_2.txt\n",
      "150721_007_ft_2.txt\n",
      "150721_007_br_3.txt\n",
      "150721_007_ft_3.txt\n",
      "150721_008_br_0.txt\n",
      "150721_008_ft_0.txt\n",
      "150721_008_br_1.txt\n",
      "150721_008_ft_1.txt\n",
      "150721_008_br_2.txt\n",
      "150721_008_ft_2.txt\n",
      "150721_008_br_3.txt\n",
      "150721_008_ft_3.txt\n"
     ]
    }
   ],
   "source": [
    "increment = 2\n",
    "maxindex = []\n",
    "maxindexvalue = []\n",
    "for filepath_ in filepath:     \n",
    "       \n",
    "    print(filepath_)\n",
    "    #op.new_book(type = _WORKBOOK, lname='', template='',hidden=False)\n",
    "    newbook = op.new_book('w',filepath_,template,False)\n",
    "\n",
    "    #Activate the template sheet\n",
    "    activesheet = op.find_sheet()\n",
    "\n",
    "    #read the file from where the data is to imported\n",
    "    df = readfile(os.path.normpath(datapath + '\\\\' + filepath_))\n",
    "\n",
    "    #Place the data into the worksheet\n",
    "    activesheet.from_list(0, df.iloc[:,0])\n",
    "    activesheet.from_list(1, df.iloc[:,1])\n",
    "    activesheet.from_list(2, df.iloc[:,2])\n",
    "    activesheet.from_list(3, df.iloc[:,3])\n",
    "    activesheet.from_list(4, df.iloc[:,4])\n",
    "    \n",
    "    maxindex.append(df.iloc[np.argmax(df.iloc[:,4]),:].to_numpy().tolist())\n",
    "    maxindexvalue.append(np.argmax(df.iloc[:,4]))\n",
    "    \n",
    "    #Frequency column in Amplitude worksheet and Delay column in Delay worksheet\n",
    "    if filepath_ == filepath[0]:\n",
    "        amplitude.set_formula('A','[' + filepath_ +  ']Sheet1!L')\n",
    "        delay.set_formula('A','[' + filepath_ +  ']Sheet1!J')\n",
    "        \n",
    "    col = getColumnName(increment)\n",
    "    comments = comment[increment-2]\n",
    "    \n",
    "    amplitude.set_formula(col,'[' + filepath_ +  ']Sheet1!Q')\n",
    "    amplitude.set_label(col,'Amplitude','L')\n",
    "    amplitude.set_label(col,'a.u.','U')\n",
    "    amplitude.set_label(col,comments,'C')\n",
    "    \n",
    "    phase.set_formula(col,'[' + filepath_ +  ']Sheet1!R')\n",
    "    phase.set_label(col,'Phase','L')\n",
    "    phase.set_label(col,'degree','U')\n",
    "    phase.set_label(col,comments,'C')\n",
    "    \n",
    "    delay.set_formula(col,'[' + filepath_ +  ']Sheet1!K')\n",
    "    delay.set_label(col,'Amplitude','L')\n",
    "    delay.set_label(col,'ps','U')\n",
    "    delay.set_label(col,comments,'C')\n",
    "    \n",
    "    #delay_1.set_formula(getColumnName((increment-2)*2+1),'[' + filepath_ +  ']Sheet1!A')\n",
    "    #delay_1.set_label(getColumnName((increment-2)*2+1),'Amplitude','L')\n",
    "    #delay_1.set_label(getColumnName((increment-2)*2+1),'ps','U')\n",
    "    #delay_1.set_label(getColumnName((increment-2)*2+1),comments,'C')\n",
    "    \n",
    "    #delay_1.set_formula(getColumnName((increment-1)*2),'[' + filepath_ +  ']Sheet1!E')\n",
    "    #delay_1.set_label(getColumnName((increment-1)*2),'Amplitude','L')\n",
    "    #delay_1.set_label(getColumnName((increment-1)*2),'ps','U')\n",
    "    #delay_1.set_label(getColumnName((increment-1)*2),comments,'C')\n",
    "    \n",
    "    #Set Formula for delay 'um' to delay 'ps'\n",
    "    #activesheet.set_formula('G',formula)\n",
    "    \n",
    "    increment = increment + 1"
   ]
  },
  {
   "cell_type": "code",
   "execution_count": 17,
   "id": "indian-climb",
   "metadata": {},
   "outputs": [],
   "source": [
    "# Exit running instance of Origin.\n",
    "# Required for external Python but don't use with embedded Python.\n",
    "if op.oext:\n",
    "    op.exit()"
   ]
  },
  {
   "cell_type": "code",
   "execution_count": null,
   "id": "lesbian-prior",
   "metadata": {},
   "outputs": [],
   "source": [
    "#np.savetxt('peak.txt',maxindex,delimiter=',',fmt='%s')"
   ]
  },
  {
   "cell_type": "code",
   "execution_count": null,
   "id": "normal-workplace",
   "metadata": {},
   "outputs": [],
   "source": [
    "#np.savetxt('peak_.txt',maxindexvalue,delimiter=',',fmt='%s')"
   ]
  },
  {
   "cell_type": "code",
   "execution_count": null,
   "id": "limiting-singing",
   "metadata": {},
   "outputs": [],
   "source": []
  },
  {
   "cell_type": "code",
   "execution_count": null,
   "id": "starting-speed",
   "metadata": {},
   "outputs": [],
   "source": []
  }
 ],
 "metadata": {
  "kernelspec": {
   "display_name": "Python 3",
   "language": "python",
   "name": "python3"
  },
  "language_info": {
   "codemirror_mode": {
    "name": "ipython",
    "version": 3
   },
   "file_extension": ".py",
   "mimetype": "text/x-python",
   "name": "python",
   "nbconvert_exporter": "python",
   "pygments_lexer": "ipython3",
   "version": "3.8.8"
  }
 },
 "nbformat": 4,
 "nbformat_minor": 5
}
