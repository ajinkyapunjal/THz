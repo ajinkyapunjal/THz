{
 "cells": [
  {
   "cell_type": "code",
   "execution_count": 8,
   "id": "rapid-combination",
   "metadata": {},
   "outputs": [],
   "source": [
    "import originpro as op\n",
    "import os\n",
    "import pandas as pd\n",
    "import numpy as np\n",
    "import matplotlib.pyplot as plt\n",
    "#%matplotlib widget\n",
    "from numpy.fft import fft, fftshift"
   ]
  },
  {
   "cell_type": "code",
   "execution_count": 29,
   "id": "chinese-pursuit",
   "metadata": {},
   "outputs": [],
   "source": [
    "#filename ='010421CWUP.026.txt'\n",
    "path = r'D:\\random\\THz-TDS\\MAY21\\transmission'\n",
    "file = '100521_015.x'\n",
    "originfilename = 'Polariser_test5'\n",
    "\n",
    "#wafer1_THz_DIR07_LR_2\n",
    "#wafer2_HR01\n",
    "\n",
    "file_start = 0\n",
    "file_end = 36\n",
    "#ref_file = 18\n",
    "\n",
    "delaystart = 9800 \n",
    "delayend = 10800\n",
    "intpoints = 2048\n",
    "\n",
    "X = np.arange(0,361,10)\n",
    "\n",
    "n_file = file_end-file_start+1"
   ]
  },
  {
   "cell_type": "code",
   "execution_count": 30,
   "id": "covered-hundred",
   "metadata": {},
   "outputs": [],
   "source": [
    "def findchar(s, ch):\n",
    "    return [i for i, ltr in enumerate(s) if ltr == ch]\n",
    "\n",
    "def filename_generator(file_start,nfile,fname,path):\n",
    "    findex = findchar(fname, \"x\")\n",
    "    prefilename = fname[:findex[0]]\n",
    "    #postfilename = fname[findex[1]+2:]\n",
    "    filename=[]\n",
    "    for i in range(nfile):\n",
    "        i=i+file_start\n",
    "        temp_name = prefilename  + f'%i'%i\n",
    "#        if i<10:\n",
    "#            temp_name = prefilename  + f'00%i'%i + postfilename\n",
    "#        elif i>=100:\n",
    "#            temp_name = prefilename  + f'%i'%i + postfilename\n",
    "#        else:\n",
    "#            temp_name = prefilename  + f'0%i'%i + postfilename'''\n",
    "        filename.append(path + '\\\\' + temp_name)\n",
    "        #print(temp_name)\n",
    "    return filename\n",
    "\n",
    "def readfile(filename):\n",
    "    import pandas as pd\n",
    "    import numpy as np\n",
    "    \n",
    "    df = pd.read_csv(filename,skiprows=13,sep='\\s+').iloc[:-1,:5]\n",
    "    df=pd.DataFrame(np.array(df, dtype=float))\n",
    "    index=[\"Distance (um)\", \"Delay (ps)\", \"Signal (V)\", \"Phase (deg)\", \"Rcos (theta)\"]\n",
    "    df=df.set_axis(index, axis=1, inplace=False).reset_index(drop=True)\n",
    "    return df\n",
    "\n",
    "def plot_amplitude(fft_freq, fft_ampsample, xmin, xmax, ymin, ymax, i):\n",
    "    #plt.close()\n",
    "    #plt.close()\n",
    "    \n",
    "    #plt.plot(fft_freq, fft_ampref, label='Reference',markersize=5)\n",
    "    plt.plot(fft_freq, fft_ampsample, label='Sample_'+str(i),markersize=5)\n",
    "    plt.yscale('log')\n",
    "    plt.xlim(xmin,xmax)   #0 to 3THz\n",
    "    plt.ylim(ymin,ymax)\n",
    "    plt.grid(which = 'major',color='black', linestyle='-', linewidth=0.5, alpha = 0.4)\n",
    "    plt.grid(which = 'minor',color='lightgray', linestyle='--', linewidth=1, alpha = 0.4)\n",
    "    plt.xlabel('Frequency (THz)')\n",
    "    plt.ylabel('Amplitude (a.u.)')\n",
    "    plt.title('FFT Amplitude')\n",
    "    plt.legend(loc='upper right')\n",
    "    #plt.show()\n",
    "    \n",
    "def time2freq(filenames,i):\n",
    "    #This function reads time data, performs interpolation and converts it to frequency amplitude and phase\n",
    "    timedata        = readfile(filenames)\n",
    "    int_timedata    = np.interp(int_delay,timedata.to_numpy()[:,1],timedata.to_numpy()[:,4]).reshape(intpoints)\n",
    "    fft_amp         = abs(fftshift(fft(int_timedata)))[int(intpoints/2):]                   #Amplitude Axis\n",
    "    fft_phase       = np.unwrap(np.angle((fftshift(fft(int_timedata)))[int(intpoints/2):])) #Phase axis\n",
    "    plot_amplitude(fft_freq, fft_amp, 0, 3, 1e-3, 10, i)\n",
    "    \n",
    "    return int_timedata, fft_amp, fft_phase\n",
    "\n",
    "def origincommentgenerator():\n",
    "    intdelaystr = []\n",
    "    ampstr = []\n",
    "    phasestr = []\n",
    "    transstr = []\n",
    "    for i in range(n_file):\n",
    "        intdelaystr.append('Intdelay_'+str(i+file_start))\n",
    "        ampstr.append('Amp_'+str(i+file_start))\n",
    "        phasestr.append('Phase_'+str(i+file_start))\n",
    "        transstr.append('Trans_'+str(i+file_start))\n",
    "    return intdelaystr, ampstr, phasestr, transstr"
   ]
  },
  {
   "cell_type": "code",
   "execution_count": 31,
   "id": "global-producer",
   "metadata": {},
   "outputs": [],
   "source": [
    "filenames = filename_generator(file_start, n_file,file,path)\n",
    "#Interpolated Delay Axis\n",
    "delaytotal = (delayend-delaystart)/149.89623                     #delaytotal in terahertz\n",
    "delaydelta = (delaytotal)/(intpoints-1)                          #delaydelta in terahertz\n",
    "int_delay  = np.arange(0,intpoints)*delaydelta+delaystart/149.89623\n",
    "\n",
    "maxdata  = []\n",
    "maxindex = []\n",
    "\n",
    "for i in range(n_file):\n",
    "    timedata        = readfile(filenames[i])\n",
    "    int_timedata    = np.interp(int_delay,timedata.to_numpy()[:,1],timedata.to_numpy()[:,4]).reshape(intpoints)\n",
    "    maxdata.append(np.amax(int_timedata))\n",
    "    maxindex.append(np.argmax(int_timedata))"
   ]
  },
  {
   "cell_type": "code",
   "execution_count": 32,
   "id": "mental-dealing",
   "metadata": {},
   "outputs": [
    {
     "data": {
      "text/plain": [
       "[<matplotlib.lines.Line2D at 0x2a2ae4414f0>]"
      ]
     },
     "execution_count": 32,
     "metadata": {},
     "output_type": "execute_result"
    },
    {
     "data": {
      "image/png": "[encoded data removed]",
      "text/plain": [
       "<Figure size 432x288 with 1 Axes>"
      ]
     },
     "metadata": {
      "needs_background": "light"
     },
     "output_type": "display_data"
    }
   ],
   "source": [
    "plt.plot(maxdata)"
   ]
  },
  {
   "cell_type": "code",
   "execution_count": 33,
   "id": "tropical-composition",
   "metadata": {},
   "outputs": [],
   "source": [
    "data  = op.new_sheet(lname='Data')\n",
    "index = op.new_sheet(lname='Index')\n",
    "\n",
    "data.from_list(0, X, 'Angle',  units = 'deg' ,axis='X')\n",
    "data.from_list(1, maxdata, 'Data' , units = 'mV',axis='Y')\n",
    "index.from_list(0, X, 'Angle',  units = 'deg' ,axis='X')\n",
    "index.from_list(1, maxindex, 'Index' ,axis='Y')\n",
    "\n",
    "op.save(os.path.normpath(os.path.normpath(path)) + '\\\\' + originfilename + '.opju')\n",
    "op.exit()"
   ]
  },
  {
   "cell_type": "code",
   "execution_count": null,
   "id": "elder-panic",
   "metadata": {},
   "outputs": [],
   "source": []
  }
 ],
 "metadata": {
  "kernelspec": {
   "display_name": "Python 3",
   "language": "python",
   "name": "python3"
  },
  "language_info": {
   "codemirror_mode": {
    "name": "ipython",
    "version": 3
   },
   "file_extension": ".py",
   "mimetype": "text/x-python",
   "name": "python",
   "nbconvert_exporter": "python",
   "pygments_lexer": "ipython3",
   "version": "3.8.8"
  }
 },
 "nbformat": 4,
 "nbformat_minor": 5
}
