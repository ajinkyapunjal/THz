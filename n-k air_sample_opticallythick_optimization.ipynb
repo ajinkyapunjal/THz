{
 "cells": [
  {
   "cell_type": "code",
   "execution_count": 1,
   "metadata": {},
   "outputs": [],
   "source": [
    "import pandas as pd\n",
    "import numpy as np\n",
    "import matplotlib.pyplot as plt\n",
    "from matplotlib.widgets import Cursor\n",
    "import ipywidgets as widgets\n",
    "from matplotlib.widgets import RadioButtons\n",
    "from numpy.fft import fft, fftshift\n",
    "from scipy.optimize import curve_fit, minimize\n",
    "import math\n",
    "import time\n",
    "import originpro as op\n",
    "%matplotlib widget\n",
    "import os\n",
    "\n",
    "import sys\n",
    "def origin_shutdown_exception_hook(exctype, value, traceback):\n",
    "    '''Ensures Origin gets shut down if an uncaught exception'''\n",
    "    op.exit()\n",
    "    sys.__excepthook__(exctype, value, traceback)\n",
    "if op and op.oext:\n",
    "    sys.excepthook = origin_shutdown_exception_hook"
   ]
  },
  {
   "cell_type": "code",
   "execution_count": 2,
   "metadata": {},
   "outputs": [],
   "source": [
    "intpoints = 2048\n",
    "\n",
    "#thickness in mm\n",
    "d                = 0.077                   #mm\n",
    "ref_filename     = '010521.017'    #Reference Filename\n",
    "sample_filename  = '010521.018'    #Sample filename\n",
    "\n",
    "#Do Not Change\n",
    "#for optimisation\n",
    "cutoff_frequencyend = 2.8                  #cutoff frequency for optimization in THz \n",
    "cutoff_frequencystart = 0.4\n",
    "#path = #Filepath to save originfile\n",
    "\n",
    "#Constants\n",
    "c = 299792458 #m/s (Speed of light)\n",
    "alpha_constant = 419.16900439033634     #(4*np.pi/299792458)*1e12(THz)*1e-2(m to cm)"
   ]
  },
  {
   "cell_type": "code",
   "execution_count": 3,
   "metadata": {},
   "outputs": [],
   "source": [
    "def readfile(filename):\n",
    "    import pandas as pd\n",
    "    import numpy as np\n",
    "    \n",
    "    df = pd.read_csv(filename,skiprows=12,sep='\\s+').iloc[:-1,:5]\n",
    "    df=pd.DataFrame(np.array(df, dtype=float))\n",
    "    index=[\"Distance (um)\", \"Delay (ps)\", \"Signal (V)\", \"Phase (deg)\", \"Rcos (theta)\"]\n",
    "    df=df.set_axis(index, axis=1, inplace=False).reset_index(drop=True)\n",
    "    return df\n",
    "\n",
    "class SnaptoCursor(object):\n",
    "    def __init__(self, ax, x, y):\n",
    "        self.ax = ax\n",
    "        self.lx = ax.axhline(color='k',lw=0.5)  # the horiz line\n",
    "        self.ly = ax.axvline(color='k')         # the vert line\n",
    "        self.x = x\n",
    "        self.y = y\n",
    "\n",
    "        # text location in axes coords\n",
    "        self.txt = ax.text(0.7, 0.9, '', transform=ax.transAxes)\n",
    "\n",
    "    def mouse_buttonpress(self, event):\n",
    "        if not event.inaxes:\n",
    "            return\n",
    "        x, y = event.xdata, event.ydata\n",
    "        indx = min(np.searchsorted(self.x, x), len(self.x) - 1)\n",
    "        \n",
    "        index_temp.append(indx)\n",
    "        \n",
    "        x = self.x[indx]\n",
    "        y = self.y[indx]\n",
    "        # update the line positions\n",
    "        self.lx.set_ydata(y)\n",
    "        self.ly.set_xdata(x)\n",
    "        \n",
    "        self.txt.set_text('x=%1.2f, y=%1.2f' % (x, y))\n",
    "        print('x=%1.2f, y=%1.2f' % (x, y))\n",
    "\n",
    "        self.ax.figure.canvas.draw()\n",
    "\n",
    "#Start button\n",
    "def startclicked(arg):\n",
    "    global timestartindex\n",
    "    timestartindex=index_temp[-1]\n",
    "    print('Start Index: ',timestartindex)\n",
    "\n",
    "\n",
    "#End Button\n",
    "def endclicked(arg):\n",
    "    global timeendindex\n",
    "    timeendindex=index_temp[-1]\n",
    "    print('End Index  : ',timeendindex)\n",
    "    \n",
    "    \n",
    "    \n",
    "##\n",
    "#Phase Correction Reference\n",
    "##\n",
    "class SnaptoCursor1(object):\n",
    "    def __init__(self, ax, x, y):\n",
    "        self.ax = ax\n",
    "        self.lx = ax.axhline(color='k',lw=0.5)  # the horiz line\n",
    "        self.ly = ax.axvline(color='k')         # the vert line\n",
    "        self.x = x\n",
    "        self.y = y\n",
    "        \n",
    "        # text location in axes coords\n",
    "        self.txt = ax.text(0.7, 0.1, '', transform=ax.transAxes)\n",
    "\n",
    "    def snap(self, event):\n",
    "        if not event.inaxes:\n",
    "            return\n",
    "        print(index_temp)\n",
    "        x, y = event.xdata, event.ydata\n",
    "        indx = min(np.searchsorted(self.x, x), len(self.x) - 1)\n",
    "        index_temp.append(indx)\n",
    "    \n",
    "        x = self.x[indx]\n",
    "        y = self.y[indx]\n",
    "        \n",
    "        # update the line positions\n",
    "        self.lx.set_ydata(y)\n",
    "        self.ly.set_xdata(x)\n",
    "        self.txt.set_text('x=%1.2f, y=%1.2f' % (x, y))\n",
    "        self.ax.figure.canvas.draw()\n",
    "\n",
    "#Reference\n",
    "def add2pi_ref(arg):\n",
    "    global add2pi\n",
    "    add2pi=index_temp[-1]\n",
    "    new_y = add(add2pi, temp)\n",
    "    plot.set_ydata(new_y)\n",
    "    print('Add Index: ',add2pi)\n",
    "\n",
    "def sub2pi_ref(arg):\n",
    "    global sub2pi\n",
    "    sub2pi=index_temp[-1]\n",
    "    new_y = sub(sub2pi,temp)\n",
    "    plot.set_ydata(new_y)\n",
    "    print('Sub Index: ',sub2pi)\n",
    "\n",
    "#Sample\n",
    "def add2pi_sample(arg):\n",
    "    global add2pi\n",
    "    add2pi=index_temp[-1]\n",
    "    new_y = add(add2pi, temp)\n",
    "    plot.set_ydata(new_y)\n",
    "    print('Add Index: ',add2pi)\n",
    "\n",
    "def sub2pi_sample(arg):\n",
    "    global sub2pi\n",
    "    sub2pi=index_temp[-1]\n",
    "    new_y = sub(sub2pi,temp)\n",
    "    plot.set_ydata(new_y)\n",
    "    print('Sub Index: ',sub2pi)\n",
    "\n",
    "#Phase Difference\n",
    "def sub2pi_phasediff(arg):\n",
    "    global sub2pi\n",
    "    sub2pi=index_temp[-1]\n",
    "    new_y = sub(sub2pi,temp)\n",
    "    plot.set_ydata(new_y)\n",
    "    print('Sub Index: ',sub2pi)\n",
    "    \n",
    "def add2pi_phasediff(arg):\n",
    "    global add2pi\n",
    "    add2pi=index_temp[-1]\n",
    "    new_y = add(add2pi, temp)\n",
    "    plot.set_ydata(new_y)\n",
    "    print('Add Index: ',add2pi)\n",
    "\n",
    "def add(index, temp):\n",
    "    new_y = temp;\n",
    "    new_y[index:] = new_y[index:]+2*np.pi\n",
    "    temp = new_y\n",
    "    return new_y\n",
    "\n",
    "def sub(index, temp):\n",
    "    new_y = temp;\n",
    "    new_y[index:] = new_y[index:]-2*np.pi\n",
    "    temp = new_y\n",
    "    return new_y\n",
    "  \n",
    "def linearfit(x, m, c):\n",
    "    return m*x + c\n",
    "\n",
    "def find_nearest_index(array, value):\n",
    "    array = np.asarray(array)\n",
    "    idx = (np.abs(array - value)).argmin()\n",
    "    return idx\n",
    "\n",
    "def n_k_2_phase_trans(n, k, d, freq):\n",
    "    #Optical Parameter Extraction \"THz TDS\" -Caihong Zhang 31-03-2008 Thesis for Optically thick samples\n",
    "    #trans(w) = (4*n/(n+1)^2)*exp(-kwd/c)\n",
    "    #phase(w) = (n-1)wd/c\n",
    "    \n",
    "    wd_c = 20.958450219516816*freq[cutoff_indexstart:cutoff_indexend]*d      #wd_c = (2*np.pi*freq*d)/c, but 2*np.pi*(THz)*(mm)/c value is 20.95845021951681\n",
    "\n",
    "    calculated_transmission = (4*n[cutoff_indexstart:cutoff_indexend]/(n[cutoff_indexstart:cutoff_indexend]+1)**2)*np.exp(-k[cutoff_indexstart:cutoff_indexend]*wd_c)\n",
    "    calculated_phase = (n[cutoff_indexstart:cutoff_indexend]-1)*wd_c\n",
    "    \n",
    "    return calculated_transmission, calculated_phase\n",
    "\n",
    "#def errorfunc(trans_meas, phase_meas, freq, thickness):\n",
    "def errorfunc(thickness):\n",
    "    #trans and phase is transmission and phase calculated from n and k\n",
    "    #trans_meas and phase_meas is transmission and phase measured experimentally\n",
    "    #phase and phase_meas is in radian\n",
    "    #Refer \"A reliable method for extraction of Material parameters in THz TDS, IEEE(1996),Jean-Louis Coutaz\"\n",
    "    \n",
    "    trans, phase = n_k_2_phase_trans(n, k, thickness, freq)\n",
    "    \n",
    "    del_T = np.log(abs(trans/trans_meas[cutoff_indexstart:cutoff_indexend]))\n",
    "    del_P = phase - phase_meas[cutoff_indexstart:cutoff_indexend]\n",
    "    \n",
    "    error = np.median(del_T**2 + del_P**2)\n",
    "    #return del_T**2 + del_P**2\n",
    "    return error  \n",
    "\n",
    "def plot_delay(xr, yr, xs, ys, xlabel, ylabel, title):\n",
    "    plt.close()\n",
    "    plt.close()\n",
    "    \n",
    "    fig, ax = plt.subplots()\n",
    "    ax.set_ylim((-float(yr.max())*1.2,float(yr.max())*1.2))\n",
    "    #ax.set_xlim((float(xr.min()),float(xr.max())))\n",
    "    ax.set_xlabel(xlabel)\n",
    "    ax.set_ylabel(ylabel)\n",
    "    ax.set_title(title)\n",
    "    ax.plot(xr, yr, '-',label='Reference',markersize=5)\n",
    "    ax.plot(xs, ys, '-',label='Sample',markersize=5)\n",
    "    ax.legend(loc='upper right')\n",
    "    ax.grid(which = 'major',color='lightgray', linestyle='-', linewidth=1, alpha = 0.4)\n",
    "    plt.show()\n",
    "    \n",
    "def plot_amplitude(fft_freq, fft_ampref, fft_ampsample, xmin, xmax, ymin, ymax):\n",
    "    plt.close()\n",
    "    plt.close()\n",
    "    \n",
    "    plt.plot(fft_freq, fft_ampref, label='Reference',markersize=5)\n",
    "    plt.plot(fft_freq, fft_ampsample, label='Sample',markersize=5)\n",
    "    plt.yscale('log')\n",
    "    plt.xlim(xmin,xmax)   #0 to 3THz\n",
    "    plt.ylim(ymin,ymax)\n",
    "    plt.grid(which = 'major',color='black', linestyle='-', linewidth=0.5, alpha = 0.4)\n",
    "    plt.grid(which = 'minor',color='lightgray', linestyle='--', linewidth=1, alpha = 0.4)\n",
    "    plt.xlabel('Frequency (THz)')\n",
    "    plt.ylabel('Amplitude (a.u.)')\n",
    "    plt.title('FFT Amplitude')\n",
    "    plt.legend(loc='upper right')\n",
    "    plt.show()\n",
    "    \n",
    "def plot_phase(fft_freq, fft_ampref, fft_ampsample, xmin, xmax, ymin, ymax):\n",
    "    plt.close()\n",
    "    plt.close()\n",
    "    \n",
    "    plt.plot(fft_freq, fft_phaseref, label='Reference',markersize=5, marker='o')\n",
    "    plt.plot(fft_freq, fft_phasesample, label='Sample',markersize=5, marker='o')\n",
    "    plt.xlim(xmin,xmax)   #0 to 3THz\n",
    "    plt.ylim(ymin,ymax)\n",
    "    plt.grid(which = 'major',color='black', linestyle='-', linewidth=0.5, alpha = 0.4)\n",
    "    plt.grid(which = 'minor',color='lightgray', linestyle='--', linewidth=1, alpha = 0.4)\n",
    "    plt.xlabel('Frequency (THz)')\n",
    "    plt.ylabel('Phase (rad.)')\n",
    "    plt.title('FFT Phase')\n",
    "    plt.legend(loc='upper right')\n",
    "    plt.show()\n",
    "    \n",
    "def plot_transmission(X, Y, xmin, xmax):\n",
    "    plt.close()\n",
    "    plt.close()\n",
    "    \n",
    "    plt.plot(X, Y, label='Transmission',markersize=5)\n",
    "    plt.xlim(xmin,xmax)   #0 to 3THz\n",
    "    plt.ylim(0,1)\n",
    "    plt.grid(which = 'major',color='black', linestyle='-', linewidth=0.5, alpha = 0.4)\n",
    "    plt.grid(which = 'minor',color='lightgray', linestyle='--', linewidth=1, alpha = 0.4)\n",
    "    plt.xlabel('Frequency (THz)')\n",
    "    plt.ylabel('Transmission')\n",
    "    plt.title('Transmission')\n",
    "    plt.legend(loc='lower right')\n",
    "    plt.show()\n",
    "    \n",
    "def plot_phasediff(X, Y, xmin, xmax, ymin, ymax):\n",
    "    plt.close()\n",
    "    plt.close()\n",
    "    \n",
    "    plt.plot(X, Y, label='Tranmission',markersize=5, marker='o')\n",
    "    plt.xlim(xmin,xmax)   #0 to 3THz\n",
    "    plt.ylim(ymin,ymax)\n",
    "    plt.grid(which = 'major',color='black', linestyle='-', linewidth=0.5, alpha = 0.4)\n",
    "    plt.grid(which = 'minor',color='lightgray', linestyle='--', linewidth=1, alpha = 0.4)\n",
    "    plt.xlabel('Frequency (THz)')\n",
    "    plt.ylabel('Phase Difference (rad)')\n",
    "    plt.title('Phase Difference')\n",
    "    plt.legend(loc='upper right')\n",
    "    plt.show()\n",
    "    \n",
    "def plot_n(X, Y, xmin, xmax, ymin, ymax):\n",
    "    plt.close()    \n",
    "    plt.plot(X, Y, label='n',markersize=5)\n",
    "    plt.xlim(xmin,xmax)   #0 to 3THz\n",
    "    plt.ylim(ymin,ymax)\n",
    "    plt.grid(which = 'major',color='black', linestyle='-', linewidth=0.5, alpha = 0.4)\n",
    "    plt.grid(which = 'minor',color='lightgray', linestyle='--', linewidth=1, alpha = 0.4)\n",
    "    plt.xlabel('Frequency (THz)')\n",
    "    plt.ylabel('Refractive Index')\n",
    "    plt.title('Refractive Index')\n",
    "    plt.legend(loc='upper right')\n",
    "    plt.show()  \n",
    "    \n",
    "def plot_k(X, Y, xmin, xmax, ymin, ymax):\n",
    "    plt.close()    \n",
    "    plt.plot(X, Y, label='k',markersize=5)\n",
    "    plt.xlim(xmin,xmax)   #0 to 3THz\n",
    "    plt.ylim(ymin,ymax)\n",
    "    plt.yscale('log')\n",
    "    plt.grid(which = 'major',color='black', linestyle='-', linewidth=0.5, alpha = 0.4)\n",
    "    plt.grid(which = 'minor',color='lightgray', linestyle='--', linewidth=1, alpha = 0.4)\n",
    "    plt.xlabel('Frequency (THz)')\n",
    "    plt.ylabel('Extinction Coefficient')\n",
    "    plt.title('Extinction Coefficient')\n",
    "    plt.legend(loc='upper right')\n",
    "    plt.show()\n",
    "    \n",
    "def plot_alpha(X, Y, xmin, xmax, ymin, ymax):\n",
    "    plt.close()    \n",
    "    plt.plot(X, Y, label='α',markersize=5)\n",
    "    plt.xlim(xmin,xmax)   #0 to 3THz\n",
    "    plt.ylim(ymin,ymax)\n",
    "    plt.yscale('log')\n",
    "    plt.grid(which = 'major',color='black', linestyle='-', linewidth=0.5, alpha = 0.4)\n",
    "    plt.grid(which = 'minor',color='lightgray', linestyle='--', linewidth=1, alpha = 0.4)\n",
    "    plt.xlabel('Frequency (THz)')\n",
    "    plt.ylabel('Absorption coefficient (cm-1)')        \n",
    "    plt.title('Absorption Coefficient')\n",
    "    plt.legend(loc='upper right')\n",
    "    plt.show()"
   ]
  },
  {
   "cell_type": "code",
   "execution_count": 4,
   "metadata": {},
   "outputs": [],
   "source": [
    "#test=readfile('test.txt')\n",
    "reference=readfile(ref_filename)\n",
    "sample=readfile(sample_filename)\n",
    "\n",
    "#print(test.iloc[:,[1,4]])\n",
    "#timeplot(test,'Reference Signal')"
   ]
  },
  {
   "cell_type": "code",
   "execution_count": 5,
   "metadata": {
    "scrolled": false
   },
   "outputs": [
    {
     "data": {
      "application/vnd.jupyter.widget-view+json": {
       "model_id": "4773a5ea9ee54379acca2a4f67cf46de",
       "version_major": 2,
       "version_minor": 0
      },
      "text/plain": [
       "Canvas(toolbar=Toolbar(toolitems=[('Home', 'Reset original view', 'home', 'home'), ('Back', 'Back to previous …"
      ]
     },
     "metadata": {},
     "output_type": "display_data"
    },
    {
     "data": {
      "application/vnd.jupyter.widget-view+json": {
       "model_id": "ab2489b2252e4d748edc956caa90036d",
       "version_major": 2,
       "version_minor": 0
      },
      "text/plain": [
       "Button(description='Start', style=ButtonStyle())"
      ]
     },
     "metadata": {},
     "output_type": "display_data"
    },
    {
     "data": {
      "application/vnd.jupyter.widget-view+json": {
       "model_id": "4792ca73d86f4065a0bc3ba61e1874be",
       "version_major": 2,
       "version_minor": 0
      },
      "text/plain": [
       "Button(description='End', style=ButtonStyle())"
      ]
     },
     "metadata": {},
     "output_type": "display_data"
    },
    {
     "name": "stdout",
     "output_type": "stream",
     "text": [
      "Start Index:  7\n",
      "End Index  :  1774\n"
     ]
    }
   ],
   "source": [
    "index_temp = []   #Temporary Index values of start and stop button\n",
    "\n",
    "#Reference\n",
    "#Reads Reference delay(ps) and Rcos(theta) as numpy array and stores in a variable\n",
    "xr=np.array(reference.iloc[:,1])   #delay axis\n",
    "yr=np.array(reference.iloc[:,4])   #Rcos(theta) axis\n",
    "\n",
    "#Sample\n",
    "#Reads Sample delay(ps) and Rcos(theta) as numpy array and stores in a variable\n",
    "xs=np.array(sample.iloc[:,1])   #delay axis\n",
    "ys=np.array(sample.iloc[:,4])   #Rcos(theta) axis\n",
    "\n",
    "\n",
    "#Plots Reference and Sample delay plot\n",
    "fig, ax = plt.subplots()\n",
    "ax.set_ylim((-float(yr.max())*1.2,float(yr.max())*1.2))\n",
    "ax.set_xlim((float(xr.min()),float(xr.max())))\n",
    "ax.set_xlabel('Delay (ps)')\n",
    "ax.set_ylabel('Amplitude (V)')\n",
    "ax.set_title('Signal-Reference Time Domain Plot')\n",
    "ax.plot(xr, yr, '-',label='Reference',markersize=5)\n",
    "ax.plot(xs, ys, '-',label='Sample',markersize=5)\n",
    "plt.grid(which = 'major',color='black', linestyle='-', linewidth=0.5, alpha = 0.4)\n",
    "\n",
    "#Delay plot Buttons\n",
    "button_start = widgets.Button(description = 'Start')   \n",
    "button_start.on_click(startclicked)\n",
    "display(button_start)\n",
    "\n",
    "button_end = widgets.Button(description = 'End')   \n",
    "button_end.on_click(endclicked)\n",
    "display(button_end)\n",
    "\n",
    "#snapping cursor to Reference\n",
    "snap_cursor = SnaptoCursor(ax, xr, yr)\n",
    "fig.canvas.mpl_connect('button_press_event', snap_cursor.mouse_buttonpress)\n",
    "plt.legend(loc='upper left')\n",
    "plt.show()"
   ]
  },
  {
   "cell_type": "code",
   "execution_count": 6,
   "metadata": {},
   "outputs": [
    {
     "data": {
      "application/vnd.jupyter.widget-view+json": {
       "model_id": "890b15f652e84fb99e558141f28ca3b1",
       "version_major": 2,
       "version_minor": 0
      },
      "text/plain": [
       "Canvas(toolbar=Toolbar(toolitems=[('Home', 'Reset original view', 'home', 'home'), ('Back', 'Back to previous …"
      ]
     },
     "metadata": {},
     "output_type": "display_data"
    }
   ],
   "source": [
    "#Rectangular Windowning\n",
    "trim_delayref = reference.iloc[timestartindex:timeendindex+1,[1,4]]\n",
    "trim_delaysample = sample.iloc[timestartindex:timeendindex+1,[1,4]]\n",
    "\n",
    "#Interpolated Delay axis generator\n",
    "delaystart = trim_delayref.to_numpy()[0][0]\n",
    "delayend   = trim_delayref.to_numpy()[-1][0]\n",
    "#delaytotal = (delayend-delaystart)/149.89623\n",
    "delaytotal = (delayend-delaystart)\n",
    "delaydelta = delaytotal/(intpoints-1)\n",
    "int_delay  = np.arange(0,intpoints)*delaydelta+delaystart\n",
    "#int_delay  = np.arange(delaystart/149.89623,(delayend+0.001)/149.89623,delaydelta)\n",
    "\n",
    "#print(int_delay)\n",
    "#Interpolation of sample and reference\n",
    "int_delayref    = np.interp(int_delay,trim_delayref.to_numpy()[:,0],trim_delayref.to_numpy()[:,1]).reshape(intpoints)\n",
    "int_delaysample = np.interp(int_delay,trim_delaysample.to_numpy()[:,0],trim_delaysample.to_numpy()[:,1]).reshape(intpoints)\n",
    "\n",
    "#Interpolated delay plotting\n",
    "plot_delay(int_delay,int_delayref,\n",
    "     int_delay,int_delaysample,\n",
    "     'Delay (ps)',\n",
    "     'Amplitude (V)',\n",
    "     'Signal-Reference Time Domain Plot (Windowing)')"
   ]
  },
  {
   "cell_type": "code",
   "execution_count": 7,
   "metadata": {},
   "outputs": [
    {
     "data": {
      "application/vnd.jupyter.widget-view+json": {
       "model_id": "cd896b72483e4f8db89a0424467de4a1",
       "version_major": 2,
       "version_minor": 0
      },
      "text/plain": [
       "Canvas(toolbar=Toolbar(toolitems=[('Home', 'Reset original view', 'home', 'home'), ('Back', 'Back to previous …"
      ]
     },
     "metadata": {},
     "output_type": "display_data"
    }
   ],
   "source": [
    "#Fast Fourier Transform using scipy.fft\n",
    "#FFT Frequency axis Generator\n",
    "fft_freq      = np.arange(0,intpoints/2,1)/delaytotal                                       #Frequency Axis \n",
    "\n",
    "#FFT Sample\n",
    "fft_ampref    = abs(fftshift(fft(int_delayref)))[int(intpoints/2):]                         #Amplitude Axis\n",
    "fft_phaseref  = np.unwrap(np.angle((fftshift(fft(int_delayref)))[int(intpoints/2):]))       #Phase axis\n",
    "\n",
    "#FFT Reference\n",
    "fft_ampsample    = abs(fftshift(fft(int_delaysample)))[int(intpoints/2):]                   #Amplitude Axis\n",
    "fft_phasesample  = np.unwrap(np.angle((fftshift(fft(int_delaysample)))[int(intpoints/2):])) #Phase axis\n",
    "\n",
    "#Plot Amplitude\n",
    "plot_amplitude(fft_freq, fft_ampref, fft_ampsample, 0, 3, 1e-3, 10)"
   ]
  },
  {
   "cell_type": "code",
   "execution_count": 8,
   "metadata": {},
   "outputs": [
    {
     "data": {
      "application/vnd.jupyter.widget-view+json": {
       "model_id": "65fcb83972df4bfda9f4912d7a67448d",
       "version_major": 2,
       "version_minor": 0
      },
      "text/plain": [
       "Canvas(toolbar=Toolbar(toolitems=[('Home', 'Reset original view', 'home', 'home'), ('Back', 'Back to previous …"
      ]
     },
     "metadata": {},
     "output_type": "display_data"
    }
   ],
   "source": [
    "#Plot Phase\n",
    "plot_phase(fft_freq, fft_phaseref, fft_phasesample, 0, 3, -300, 50)"
   ]
  },
  {
   "cell_type": "code",
   "execution_count": 9,
   "metadata": {},
   "outputs": [
    {
     "data": {
      "application/vnd.jupyter.widget-view+json": {
       "model_id": "4df2df9622c84864b4cdb64e84739a13",
       "version_major": 2,
       "version_minor": 0
      },
      "text/plain": [
       "Canvas(toolbar=Toolbar(toolitems=[('Home', 'Reset original view', 'home', 'home'), ('Back', 'Back to previous …"
      ]
     },
     "metadata": {},
     "output_type": "display_data"
    },
    {
     "data": {
      "application/vnd.jupyter.widget-view+json": {
       "model_id": "b3c406681f764d10958b0be06d7f1be8",
       "version_major": 2,
       "version_minor": 0
      },
      "text/plain": [
       "Button(description='Add 2*pi', style=ButtonStyle())"
      ]
     },
     "metadata": {},
     "output_type": "display_data"
    },
    {
     "data": {
      "application/vnd.jupyter.widget-view+json": {
       "model_id": "e099914f09524fe18ff307ea88811d87",
       "version_major": 2,
       "version_minor": 0
      },
      "text/plain": [
       "Button(description='Sub 2*pi', style=ButtonStyle())"
      ]
     },
     "metadata": {},
     "output_type": "display_data"
    },
    {
     "name": "stdout",
     "output_type": "stream",
     "text": [
      "Sub Index:  138\n",
      "Sub Index:  139\n"
     ]
    }
   ],
   "source": [
    "#Reference Phase Correction\n",
    "temp=[]\n",
    "temp = fft_phaseref\n",
    "\n",
    "#Plots Reference and Sample delay plot\n",
    "plt.close()\n",
    "plt.close()\n",
    "fig, ax = plt.subplots()\n",
    "#ax.set_ylim(-200,4)\n",
    "ax.set_xlim(0,3)\n",
    "ax.set_xlabel('Frequency (THz)')\n",
    "ax.set_ylabel('Phase (rad)')\n",
    "ax.set_title('Phase (Reference)')\n",
    "plt.grid(which = 'major',color='black', linestyle='-', linewidth=0.5, alpha = 0.4)\n",
    "plot, = ax.plot(fft_freq, fft_phaseref, '-',label='Reference',marker='o')\n",
    "plt.legend(loc='upper right')\n",
    "#ax.plot(xs, ys, '-',label='Sample',markersize=5)'''\n",
    "\n",
    "\n",
    "#Delay plot Buttons\n",
    "button_add = widgets.Button(description = 'Add 2*pi')   \n",
    "button_add.on_click(add2pi_ref)\n",
    "display(button_add)\n",
    "\n",
    "button_sub = widgets.Button(description = 'Sub 2*pi')   \n",
    "button_sub.on_click(sub2pi_ref)\n",
    "display(button_sub)\n",
    "\n",
    "#snapping cursor to Reference\n",
    "snap_cursor1 = SnaptoCursor1(ax, fft_freq, fft_phaseref)\n",
    "fig.canvas.mpl_connect('button_press_event', snap_cursor1.snap)\n",
    "plt.legend(loc='upper right')\n",
    "plt.show()"
   ]
  },
  {
   "cell_type": "code",
   "execution_count": 10,
   "metadata": {},
   "outputs": [],
   "source": [
    "phaseref_corrected = temp"
   ]
  },
  {
   "cell_type": "code",
   "execution_count": 11,
   "metadata": {},
   "outputs": [
    {
     "data": {
      "application/vnd.jupyter.widget-view+json": {
       "model_id": "65f0373369bc4fe8909bcc466d0de549",
       "version_major": 2,
       "version_minor": 0
      },
      "text/plain": [
       "Canvas(toolbar=Toolbar(toolitems=[('Home', 'Reset original view', 'home', 'home'), ('Back', 'Back to previous …"
      ]
     },
     "metadata": {},
     "output_type": "display_data"
    },
    {
     "data": {
      "application/vnd.jupyter.widget-view+json": {
       "model_id": "2797f934610b452ea766ded39e22514b",
       "version_major": 2,
       "version_minor": 0
      },
      "text/plain": [
       "Button(description='Add 2*pi', style=ButtonStyle())"
      ]
     },
     "metadata": {},
     "output_type": "display_data"
    },
    {
     "data": {
      "application/vnd.jupyter.widget-view+json": {
       "model_id": "19421876ea2d4485aa22597639b79b82",
       "version_major": 2,
       "version_minor": 0
      },
      "text/plain": [
       "Button(description='Sub 2*pi', style=ButtonStyle())"
      ]
     },
     "metadata": {},
     "output_type": "display_data"
    },
    {
     "name": "stdout",
     "output_type": "stream",
     "text": [
      "Sub Index:  139\n"
     ]
    }
   ],
   "source": [
    "#Sample Phase Correction\n",
    "temp = fft_phasesample\n",
    "\n",
    "#Plots Reference and Sample delay plot\n",
    "plt.close()\n",
    "plt.close()\n",
    "fig, ax = plt.subplots()\n",
    "#ax.set_ylim(-200,4)\n",
    "ax.set_xlim(0,3)\n",
    "ax.set_xlabel('Frequency (THz)')\n",
    "ax.set_ylabel('Phase (rad)')\n",
    "ax.set_title('Phase (Sample)')\n",
    "plt.grid(which = 'major',color='black', linestyle='-', linewidth=0.5, alpha = 0.4)\n",
    "plot, = ax.plot(fft_freq, fft_phasesample, '-',label='Sample',marker='o')\n",
    "plt.legend(loc='upper right')\n",
    "#ax.plot(xs, ys, '-',label='Sample',markersize=5)'''\n",
    "\n",
    "\n",
    "#Delay plot Buttons\n",
    "button_add = widgets.Button(description = 'Add 2*pi')   \n",
    "button_add.on_click(add2pi_sample)\n",
    "display(button_add)\n",
    "\n",
    "button_sub = widgets.Button(description = 'Sub 2*pi')   \n",
    "button_sub.on_click(sub2pi_sample)\n",
    "display(button_sub)\n",
    "\n",
    "#snapping cursor to Reference\n",
    "snap_cursor1 = SnaptoCursor1(ax, fft_freq, fft_phasesample)\n",
    "fig.canvas.mpl_connect('button_press_event', snap_cursor1.snap)\n",
    "plt.legend(loc='upper right')\n",
    "plt.show()"
   ]
  },
  {
   "cell_type": "code",
   "execution_count": 12,
   "metadata": {},
   "outputs": [],
   "source": [
    "phasesample_corrected = temp"
   ]
  },
  {
   "cell_type": "code",
   "execution_count": 38,
   "metadata": {},
   "outputs": [
    {
     "data": {
      "application/vnd.jupyter.widget-view+json": {
       "model_id": "e7a01f736dbc490487e9fd743af1b311",
       "version_major": 2,
       "version_minor": 0
      },
      "text/plain": [
       "Canvas(toolbar=Toolbar(toolitems=[('Home', 'Reset original view', 'home', 'home'), ('Back', 'Back to previous …"
      ]
     },
     "metadata": {},
     "output_type": "display_data"
    },
    {
     "data": {
      "application/vnd.jupyter.widget-view+json": {
       "model_id": "b2260b8c449d40f89a2e7a3951311392",
       "version_major": 2,
       "version_minor": 0
      },
      "text/plain": [
       "Button(description='Add 2*pi', style=ButtonStyle())"
      ]
     },
     "metadata": {},
     "output_type": "display_data"
    },
    {
     "data": {
      "application/vnd.jupyter.widget-view+json": {
       "model_id": "394f1525d56c432d91e01743dde4019f",
       "version_major": 2,
       "version_minor": 0
      },
      "text/plain": [
       "Button(description='Sub 2*pi', style=ButtonStyle())"
      ]
     },
     "metadata": {},
     "output_type": "display_data"
    },
    {
     "data": {
      "application/vnd.jupyter.widget-view+json": {
       "model_id": "b587dbd7a1004c3296024703ec1d79bf",
       "version_major": 2,
       "version_minor": 0
      },
      "text/plain": [
       "Button(description='Start', style=ButtonStyle())"
      ]
     },
     "metadata": {},
     "output_type": "display_data"
    },
    {
     "data": {
      "application/vnd.jupyter.widget-view+json": {
       "model_id": "268cdc32ca7543028e02866c3f3dcb25",
       "version_major": 2,
       "version_minor": 0
      },
      "text/plain": [
       "Button(description='End', style=ButtonStyle())"
      ]
     },
     "metadata": {},
     "output_type": "display_data"
    },
    {
     "name": "stdout",
     "output_type": "stream",
     "text": [
      "End Index  :  3\n",
      "Sub Index:  3\n",
      "Sub Index:  138\n",
      "Sub Index:  197\n",
      "Add Index:  198\n",
      "Start Index:  26\n",
      "End Index  :  123\n"
     ]
    }
   ],
   "source": [
    "#phasediff = fft_phasesample -fft_phaseref\n",
    "phasediff = (phasesample_corrected - phaseref_corrected)\n",
    "#plot_phasediff(fft_freq, phasediff, 0, 2, -10,100)\n",
    "\n",
    "#Sample Phase Correction\n",
    "temp = phasediff\n",
    "\n",
    "#Plots Reference and Sample delay plot\n",
    "plt.close()\n",
    "plt.close()\n",
    "fig, ax = plt.subplots()\n",
    "#ax.set_ylim(-200,4)\n",
    "ax.set_xlim(0,3)\n",
    "ax.set_xlabel('Frequency (THz)')\n",
    "ax.set_ylabel('Phase (rad)')\n",
    "ax.set_title('Phase Difference')\n",
    "plt.grid(which = 'major',color='black', linestyle='-', linewidth=0.5, alpha = 0.4)\n",
    "plot, = ax.plot(fft_freq, phasediff, '-',label='Sample',marker='o')\n",
    "plt.legend(loc='upper right')\n",
    "#ax.plot(xs, ys, '-',label='Sample',markersize=5)'''\n",
    "\n",
    "\n",
    "#Delay plot Buttons\n",
    "button_add = widgets.Button(description = 'Add 2*pi')   \n",
    "button_add.on_click(add2pi_phasediff)\n",
    "display(button_add)\n",
    "\n",
    "button_sub = widgets.Button(description = 'Sub 2*pi')   \n",
    "button_sub.on_click(sub2pi_phasediff)\n",
    "display(button_sub)\n",
    "\n",
    "button_start = widgets.Button(description = 'Start')   \n",
    "button_start.on_click(startclicked)\n",
    "display(button_start)\n",
    "\n",
    "button_end = widgets.Button(description = 'End')   \n",
    "button_end.on_click(endclicked)\n",
    "display(button_end)\n",
    "\n",
    "#snapping cursor to Reference\n",
    "snap_cursor1 = SnaptoCursor1(ax, fft_freq, phasediff)\n",
    "fig.canvas.mpl_connect('button_press_event', snap_cursor1.snap)\n",
    "plt.legend(loc='upper right')\n",
    "plt.show()"
   ]
  },
  {
   "cell_type": "code",
   "execution_count": 39,
   "metadata": {},
   "outputs": [],
   "source": [
    "phasediff_corrected = temp\n",
    "\n",
    "#Next four lines finds the y intercept of the phase difference\n",
    "trim_fft_freq = fft_freq[timestartindex:timeendindex+1]\n",
    "trim_phasediff_corrected = phasediff_corrected[timestartindex:timeendindex+1]\n",
    "popt, pconv = curve_fit(linearfit, trim_fft_freq, trim_phasediff_corrected)\n",
    "y_intercept = popt[1]"
   ]
  },
  {
   "cell_type": "code",
   "execution_count": 40,
   "metadata": {},
   "outputs": [
    {
     "data": {
      "application/vnd.jupyter.widget-view+json": {
       "model_id": "e5e9125e0067438199e3cedf41c9f2de",
       "version_major": 2,
       "version_minor": 0
      },
      "text/plain": [
       "Canvas(toolbar=Toolbar(toolitems=[('Home', 'Reset original view', 'home', 'home'), ('Back', 'Back to previous …"
      ]
     },
     "metadata": {},
     "output_type": "display_data"
    }
   ],
   "source": [
    "transmission = fft_ampsample/fft_ampref\n",
    "plot_transmission(fft_freq, transmission, 0, 3)"
   ]
  },
  {
   "cell_type": "code",
   "execution_count": 41,
   "metadata": {},
   "outputs": [
    {
     "data": {
      "application/vnd.jupyter.widget-view+json": {
       "model_id": "31ae1c007fb84dfeb35faa9442bcb273",
       "version_major": 2,
       "version_minor": 0
      },
      "text/plain": [
       "Canvas(toolbar=Toolbar(toolitems=[('Home', 'Reset original view', 'home', 'home'), ('Back', 'Back to previous …"
      ]
     },
     "metadata": {},
     "output_type": "display_data"
    }
   ],
   "source": [
    "#C/wd\n",
    "const = []\n",
    "const.append(1)\n",
    "const[1:] = (c*1000)/(2*np.pi*fft_freq[1:]*d*1e12)     #c/omega*d\n",
    "const = np.array(const)\n",
    "\n",
    "#Refractive Index\n",
    "n = abs(1-(np.multiply(phasediff_corrected+y_intercept,const)))\n",
    "plot_n(fft_freq, n, 0.4, 2.8, 1.25, 2)"
   ]
  },
  {
   "cell_type": "code",
   "execution_count": 42,
   "metadata": {},
   "outputs": [
    {
     "data": {
      "application/vnd.jupyter.widget-view+json": {
       "model_id": "8cef73af16d44f25a6e25635f82a744a",
       "version_major": 2,
       "version_minor": 0
      },
      "text/plain": [
       "Canvas(toolbar=Toolbar(toolitems=[('Home', 'Reset original view', 'home', 'home'), ('Back', 'Back to previous …"
      ]
     },
     "metadata": {},
     "output_type": "display_data"
    }
   ],
   "source": [
    "#Extinction Coefficient\n",
    "k = abs(const*np.log((4*n)/(transmission*(n+1)**2)))\n",
    "plot_k(fft_freq, k, 0, 2.8, 0.0001, 1)"
   ]
  },
  {
   "cell_type": "code",
   "execution_count": 43,
   "metadata": {},
   "outputs": [
    {
     "data": {
      "application/vnd.jupyter.widget-view+json": {
       "model_id": "9dcaaffd25604554be3aac22b1b8649d",
       "version_major": 2,
       "version_minor": 0
      },
      "text/plain": [
       "Canvas(toolbar=Toolbar(toolitems=[('Home', 'Reset original view', 'home', 'home'), ('Back', 'Back to previous …"
      ]
     },
     "metadata": {},
     "output_type": "display_data"
    }
   ],
   "source": [
    "#alpha Absorption Coefficient\n",
    "alpha = alpha_constant*k*fft_freq\n",
    "plot_alpha(fft_freq, alpha, 0.4, 2.8, 0.1, 100)"
   ]
  },
  {
   "cell_type": "code",
   "execution_count": 44,
   "metadata": {},
   "outputs": [
    {
     "name": "stdout",
     "output_type": "stream",
     "text": [
      "Optimized Thickness : 0.07555624999999999 mm\n",
      " final_simplex: (array([[0.07555625],\n",
      "       [0.07561641]]), array([0.00015641, 0.00016222]))\n",
      "           fun: 0.0001564116567068862\n",
      "       message: 'Optimization terminated successfully.'\n",
      "          nfev: 14\n",
      "           nit: 7\n",
      "        status: 0\n",
      "       success: True\n",
      "             x: array([0.07555625])\n"
     ]
    }
   ],
   "source": [
    "cutoff_indexend = find_nearest_index(fft_freq, cutoff_frequencyend)\n",
    "cutoff_indexstart = find_nearest_index(fft_freq, cutoff_frequencystart)\n",
    "\n",
    "#Below four lines are the global variables, I have used this names in the function\n",
    "thickness = d\n",
    "trans_meas = transmission\n",
    "phase_meas = abs(phasediff_corrected)\n",
    "freq = fft_freq\n",
    "\n",
    "'''\n",
    "###\n",
    "Nelder mead specific Optimization options\n",
    "https://docs.scipy.org/doc/scipy/reference/optimize.minimize-neldermead.html#optimize-minimize-neldermead\n",
    "####\n",
    "General Optimization options \n",
    "https://docs.scipy.org/doc/scipy/reference/generated/scipy.optimize.minimize.html#scipy.optimize.minimize\n",
    "'''\n",
    "result = minimize(errorfunc, thickness, method='nelder-mead', options = {'maxiter': 100, 'maxiter': 200})\n",
    "print('Optimized Thickness :', np.ndarray.item(result['x']), 'mm')\n",
    "print(result)"
   ]
  },
  {
   "cell_type": "code",
   "execution_count": 45,
   "metadata": {},
   "outputs": [],
   "source": [
    "#Origin Saving\n",
    "raw      = op.new_sheet(lname='Measured Data')\n",
    "analysis = op.new_sheet(lname=('analysis_'+str(d)+'mm'))\n",
    "\n",
    "#Reference Data\n",
    "raw.from_list(0, reference.to_numpy()[:,0], 'Distance',    units = 'um',  comments='Reference',axis=None)\n",
    "raw.from_list(1, reference.to_numpy()[:,1], 'Delay',       units = 'ps',  comments='Reference',axis=None)\n",
    "raw.from_list(2, reference.to_numpy()[:,2], 'Signal',      units = 'V',   comments='Reference',axis=None)\n",
    "raw.from_list(3, reference.to_numpy()[:,3], 'Phase',       units = 'deg', comments='Reference',axis=None)\n",
    "raw.from_list(4, reference.to_numpy()[:,4], 'Rcos(theta)', units = '',    comments='Reference',axis=None)\n",
    "\n",
    "#Sample Data\n",
    "raw.from_list(6,  sample.to_numpy()[:,0], 'Distance',    units = 'um',  comments='Sample',axis=None)\n",
    "raw.from_list(7,  sample.to_numpy()[:,1], 'Delay',       units = 'ps',  comments='Sample',axis=None)\n",
    "raw.from_list(8,  sample.to_numpy()[:,2], 'Signal',      units = 'V',   comments='Sample',axis=None)\n",
    "raw.from_list(9,  sample.to_numpy()[:,3], 'Phase',       units = 'deg', comments='Sample',axis=None)\n",
    "raw.from_list(10, sample.to_numpy()[:,4], 'Rcos(theta)', units = '',    comments='Sample',axis=None)\n",
    "\n",
    "#Analysis Data\n",
    "analysis.from_list(0, int_delay,       'IntDelay',       units = 'ps', comments='',         axis='X')\n",
    "analysis.from_list(1, int_delayref,    'IntRcos(theta)', units = '',   comments='Reference',axis='Y')\n",
    "analysis.from_list(2, int_delaysample, 'IntRcos(theta)', units = '',   comments='Sample',   axis='Y')\n",
    "\n",
    "analysis.from_list(4, fft_freq,     'Frequency', units = 'THz',  comments='',         axis='X')\n",
    "analysis.from_list(5, fft_ampref,   'Amplitude', units = 'a.u.', comments='Reference',axis='Y')\n",
    "analysis.from_list(6, fft_ampsample,'Amplitude', units = 'a.u.', comments='Sample',   axis='Y')\n",
    "\n",
    "analysis.from_list(7, fft_phaseref,   'Phase',     units = 'rad', comments='Reference',axis='Y')\n",
    "analysis.from_list(8, fft_phasesample,'Phase',     units = 'rad', comments='Sample',   axis='Y')\n",
    "\n",
    "analysis.from_list(7, phaseref_corrected,   'Corrected Phase',     units = 'rad', comments='Reference',axis='Y')\n",
    "analysis.from_list(8, phasesample_corrected,'Corrected Phase',     units = 'rad', comments='Sample',   axis='Y')\n",
    "\n",
    "analysis.from_list(9,  transmission,       'Transmission',               units = '',    comments='', axis='Y')\n",
    "analysis.from_list(10, phasediff,          'Phase Difference',           units = 'rad', comments='', axis='Y')\n",
    "analysis.from_list(11, phasediff_corrected,'Corrected Phase Difference', units = 'rad', comments='', axis='Y')\n",
    "\n",
    "analysis.from_list(12, n,    'n', units = '',    comments='Refractive Index',       axis='Y')\n",
    "analysis.from_list(13, k,    'k', units = '',    comments='Extinction Coefficient', axis='Y')\n",
    "analysis.from_list(14, alpha,'α', units = '1/cm',comments='Absoption coefficient',  axis='Y')\n",
    "\n",
    "op.save(os.path.normpath(os.getcwd()) + r'\\TD_polyimiden-k.opju')\n",
    "#op.save(os.path.normpath(os.path.normpath(path)) + r'\\result.opju')\n",
    "op.exit()"
   ]
  },
  {
   "cell_type": "code",
   "execution_count": null,
   "metadata": {},
   "outputs": [],
   "source": []
  },
  {
   "cell_type": "code",
   "execution_count": null,
   "metadata": {},
   "outputs": [],
   "source": []
  },
  {
   "cell_type": "code",
   "execution_count": null,
   "metadata": {},
   "outputs": [],
   "source": []
  },
  {
   "cell_type": "code",
   "execution_count": 27,
   "metadata": {},
   "outputs": [
    {
     "data": {
      "application/vnd.jupyter.widget-view+json": {
       "model_id": "c47044bb1bd74d2caa20911c4c1caa0e",
       "version_major": 2,
       "version_minor": 0
      },
      "text/plain": [
       "Canvas(toolbar=Toolbar(toolitems=[('Home', 'Reset original view', 'home', 'home'), ('Back', 'Back to previous …"
      ]
     },
     "metadata": {},
     "output_type": "display_data"
    }
   ],
   "source": [
    "#Optimised n\n",
    "#C/wd\n",
    "const = []\n",
    "const.append(1)\n",
    "const[1:] = (c*1000)/(2*np.pi*fft_freq[1:]*np.ndarray.item(result['x'])*1e12)     #c/omega*d\n",
    "const = np.array(const)\n",
    "\n",
    "#Refractive Index\n",
    "n_d_opt = abs(1-(np.multiply(phasediff_corrected+y_intercept,const)))\n",
    "plot_n(fft_freq, n_d_opt, 0.4, 2.8, 1, 1.2)"
   ]
  },
  {
   "cell_type": "code",
   "execution_count": null,
   "metadata": {},
   "outputs": [],
   "source": [
    "#Extinction Coefficient\n",
    "k_d_opt = abs(const*np.log((4*n_d_opt)/(transmission*(n_d_opt+1)**2)))\n",
    "plot_k(fft_freq, k_d_opt, 0, 2.8, 0.001, 1)"
   ]
  },
  {
   "cell_type": "code",
   "execution_count": null,
   "metadata": {},
   "outputs": [],
   "source": []
  }
 ],
 "metadata": {
  "hide_input": false,
  "kernelspec": {
   "display_name": "Python 3",
   "language": "python",
   "name": "python3"
  },
  "language_info": {
   "codemirror_mode": {
    "name": "ipython",
    "version": 3
   },
   "file_extension": ".py",
   "mimetype": "text/x-python",
   "name": "python",
   "nbconvert_exporter": "python",
   "pygments_lexer": "ipython3",
   "version": "3.8.8"
  }
 },
 "nbformat": 4,
 "nbformat_minor": 4
}
